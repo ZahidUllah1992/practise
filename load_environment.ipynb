{
  "cells": [
    {
      "cell_type": "markdown",
      "metadata": {
        "id": "view-in-github",
        "colab_type": "text"
      },
      "source": [
        "<a href=\"https://colab.research.google.com/github/ZahidUllah1992/practise/blob/main/load_environment.ipynb\" target=\"_parent\"><img src=\"https://colab.research.google.com/assets/colab-badge.svg\" alt=\"Open In Colab\"/></a>"
      ]
    },
    {
      "cell_type": "markdown",
      "metadata": {
        "id": "qWIcX7CIT3IL"
      },
      "source": [
        "<a href=\"https://colab.research.google.com/github/intelligent-environments-lab/CityLearn/blob/master/examples/load_environment.ipynb\" target=\"_parent\"><img src=\"https://colab.research.google.com/assets/colab-badge.svg\" alt=\"Open In Colab\"/></a>"
      ]
    },
    {
      "cell_type": "code",
      "execution_count": null,
      "metadata": {
        "id": "vIJ5CRWuT3IP"
      },
      "outputs": [],
      "source": [
        "!pip install CityLearn==2.0.0"
      ]
    },
    {
      "cell_type": "markdown",
      "metadata": {
        "id": "z1VzKA7wT3IQ"
      },
      "source": [
        "## Load an Environment Using Named Dataset\n"
      ]
    },
    {
      "cell_type": "code",
      "execution_count": null,
      "metadata": {
        "id": "p5_PU9k1T3IQ",
        "outputId": "49040d13-e1fb-43d8-8a5c-bdeec69a4540",
        "colab": {
          "base_uri": "https://localhost:8080/"
        }
      },
      "outputs": [
        {
          "output_type": "stream",
          "name": "stdout",
          "text": [
            "['baeda_3dem', 'citylearn_challenge_2020_climate_zone_1', 'citylearn_challenge_2020_climate_zone_2', 'citylearn_challenge_2020_climate_zone_3', 'citylearn_challenge_2020_climate_zone_4', 'citylearn_challenge_2021', 'citylearn_challenge_2022_phase_1', 'citylearn_challenge_2022_phase_2', 'citylearn_challenge_2022_phase_3', 'citylearn_challenge_2022_phase_all']\n"
          ]
        }
      ],
      "source": [
        "from citylearn.data import DataSet\n",
        "\n",
        "dataset_names = DataSet.get_names()\n",
        "print(dataset_names)"
      ]
    },
    {
      "cell_type": "markdown",
      "metadata": {
        "id": "Gjv7hRtTT3IR"
      },
      "source": [
        "Initialize the environment using any of the valid names:"
      ]
    },
    {
      "cell_type": "code",
      "execution_count": null,
      "metadata": {
        "id": "-t8WjQXfT3IR"
      },
      "outputs": [],
      "source": [
        "from citylearn.citylearn import CityLearnEnv\n",
        "\n",
        "env = CityLearnEnv('citylearn_challenge_2020_climate_zone_1')"
      ]
    },
    {
      "cell_type": "markdown",
      "metadata": {
        "id": "ltNzaym7T3IS"
      },
      "source": [
        "The dataset can also be download to a path of choice for inspection. The following code copies a dataset to the current directory:"
      ]
    },
    {
      "cell_type": "code",
      "execution_count": null,
      "metadata": {
        "id": "DAndeDLYT3IS",
        "colab": {
          "base_uri": "https://localhost:8080/"
        },
        "outputId": "a7b6ccb7-e6e9-4730-f57c-f6429a29e57b"
      },
      "outputs": [
        {
          "output_type": "stream",
          "name": "stderr",
          "text": [
            "/usr/local/lib/python3.10/dist-packages/ipykernel/ipkernel.py:283: DeprecationWarning: `should_run_async` will not call `transform_cell` automatically in the future. Please pass the result to `transformed_cell` argument and any exception that happen during thetransform in `preprocessing_exc_tuple` in IPython 7.17 and above.\n",
            "  and should_run_async(code)\n"
          ]
        }
      ],
      "source": [
        "from citylearn.data import DataSet\n",
        "\n",
        "DataSet.copy('citylearn_challenge_2020_climate_zone_1')"
      ]
    },
    {
      "cell_type": "markdown",
      "metadata": {
        "id": "Swff4EHIT3IS"
      },
      "source": [
        "## Load an Environment Using Schema Filepath\n",
        "\n",
        "The [Schema](https://intelligent-environments-lab.github.io/CityLearn/overview/schema.html) filepath can be use to initialize an environment:"
      ]
    },
    {
      "cell_type": "code",
      "execution_count": null,
      "metadata": {
        "id": "bxkTSooZT3IT"
      },
      "outputs": [],
      "source": [
        "from citylearn.citylearn import CityLearnEnv\n",
        "\n",
        "schema_filepath = 'citylearn_challenge_2020_climate_zone_1/schema.json'\n",
        "env = CityLearnEnv(schema_filepath)"
      ]
    },
    {
      "cell_type": "markdown",
      "metadata": {
        "id": "pAiXYsogT3IT"
      },
      "source": [
        "This approach is best if using a custom [Dataset](https://intelligent-environments-lab.github.io/CityLearn/overview/dataset.html)."
      ]
    },
    {
      "cell_type": "markdown",
      "metadata": {
        "id": "sOulhNcpT3IT"
      },
      "source": [
        "## Load an Environment Using Schema Dictionary Object\n",
        "\n",
        "Alternatively, the schema can be supplied as a `dict` object. This approach can be used to edit the schema parameter values before constructing the environment. With this approach, the `root_directory` key-value must be explicitly set: See example below:"
      ]
    },
    {
      "cell_type": "code",
      "execution_count": null,
      "metadata": {
        "id": "HvxqVyMHT3IT"
      },
      "outputs": [],
      "source": [
        "from citylearn.citylearn import CityLearnEnv\n",
        "from citylearn.utilities import read_json\n",
        "\n",
        "schema_filepath = 'citylearn_challenge_2020_climate_zone_1/schema.json'\n",
        "schema = read_json(schema_filepath)\n",
        "schema['root_directory'] = 'citylearn_challenge_2020_climate_zone_1'\n",
        "env = CityLearnEnv(schema)"
      ]
    },
    {
      "cell_type": "markdown",
      "metadata": {
        "id": "AmYtGzcPT3IT"
      },
      "source": [
        "Some schema parameters can also be overriden by parsing them directly to the `citylearn.citylearn.CityLearnEnv` constructor:"
      ]
    },
    {
      "cell_type": "code",
      "execution_count": null,
      "metadata": {
        "id": "tGlq1V9uT3IU"
      },
      "outputs": [],
      "source": [
        "from citylearn.citylearn import CityLearnEnv\n",
        "from citylearn.utilities import read_json\n",
        "\n",
        "schema_filepath = 'citylearn_challenge_2020_climate_zone_1/schema.json'\n",
        "schema = read_json(schema_filepath)\n",
        "env = CityLearnEnv(\n",
        "    schema,\n",
        "    root_directory='citylearn_challenge_2020_climate_zone_1',\n",
        "    central_agent=True,\n",
        "    simulation_start_time_step=10\n",
        ")"
      ]
    }
  ],
  "metadata": {
    "kernelspec": {
      "display_name": "Python 3",
      "name": "python3"
    },
    "language_info": {
      "codemirror_mode": {
        "name": "ipython",
        "version": 3
      },
      "file_extension": ".py",
      "mimetype": "text/x-python",
      "name": "python",
      "nbconvert_exporter": "python",
      "pygments_lexer": "ipython3",
      "version": "3.7.7"
    },
    "orig_nbformat": 4,
    "vscode": {
      "interpreter": {
        "hash": "24d13602916ce501dab33551801634a98323f75b1378db411e4ca12af6dc15d7"
      }
    },
    "colab": {
      "provenance": [],
      "include_colab_link": true
    }
  },
  "nbformat": 4,
  "nbformat_minor": 0
}